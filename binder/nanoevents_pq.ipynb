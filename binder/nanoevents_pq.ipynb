{
 "cells": [
  {
   "cell_type": "markdown",
   "id": "blocked-chemical",
   "metadata": {},
   "source": [
    "In this demo, we first show how to use the Arrow `Dataset` API `RadosParquetFileFormat` API to scan parquet files by pushing down scan opertations into Ceph and then we show how to use the `Dataset` API to process parquet files containing NanoEvents stored in Ceph in parallel through Coffea using Dask."
   ]
  },
  {
   "cell_type": "markdown",
   "id": "medieval-profile",
   "metadata": {},
   "source": [
    "## Exploring RadosParquetFileFormat with PyArrow\n",
    "\n",
    "We import the Dataset API and the Parquet API from PyArrow."
   ]
  },
  {
   "cell_type": "code",
   "execution_count": 1,
   "id": "fifty-syndrome",
   "metadata": {},
   "outputs": [],
   "source": [
    "import pyarrow\n",
    "import pyarrow.dataset as ds\n",
    "import pyarrow.parquet as pq"
   ]
  },
  {
   "cell_type": "markdown",
   "id": "inappropriate-watts",
   "metadata": {},
   "source": [
    "Now, we will instantiate the `RadosParquetFileFormat`. Upon instantiation, the connection to the Ceph cluster is made under the hood. The connection is closed automatically upon object destruction. The `RadosParquetFileFormat` API currently takes the Ceph configuration file as input. It inherits from the `FileFormat` API and uses the `DirectObjectAccess` API under the hood to interact with the underlying objects that make up a file in CephFS."
   ]
  },
  {
   "cell_type": "code",
   "execution_count": 2,
   "id": "comparative-wings",
   "metadata": {},
   "outputs": [],
   "source": [
    "rados_format = ds.RadosParquetFileFormat(b\"/etc/ceph/ceph.conf\")"
   ]
  },
  {
   "cell_type": "markdown",
   "id": "pacific-muscle",
   "metadata": {},
   "source": [
    "Since, we mount CephFS, we use the `FileSystemDataset` that comes out of the box with Apache Arrow for instantiating our dataset, as by mounting CephFS we have just another directory of Parquet files. Having the suitability of using the `FileSystemDataset`, we just can start pushing down scan operations to our Parquet files by just plugging in `RadosParquetFileFormat` in the format paramter. "
   ]
  },
  {
   "cell_type": "code",
   "execution_count": 3,
   "id": "aerial-helping",
   "metadata": {},
   "outputs": [],
   "source": [
    "dataset = ds.dataset(\"file:///mnt/cephfs/nyc\", format=ds.RadosParquetFileFormat(b\"/etc/ceph/ceph.conf\"))"
   ]
  },
  {
   "cell_type": "markdown",
   "id": "received-costa",
   "metadata": {},
   "source": [
    "Now we apply some projections and filters on the dataset."
   ]
  },
  {
   "cell_type": "code",
   "execution_count": 4,
   "id": "romance-prague",
   "metadata": {},
   "outputs": [
    {
     "data": {
      "text/html": [
       "<div>\n",
       "<style scoped>\n",
       "    .dataframe tbody tr th:only-of-type {\n",
       "        vertical-align: middle;\n",
       "    }\n",
       "\n",
       "    .dataframe tbody tr th {\n",
       "        vertical-align: top;\n",
       "    }\n",
       "\n",
       "    .dataframe thead th {\n",
       "        text-align: right;\n",
       "    }\n",
       "</style>\n",
       "<table border=\"1\" class=\"dataframe\">\n",
       "  <thead>\n",
       "    <tr style=\"text-align: right;\">\n",
       "      <th></th>\n",
       "      <th>total_amount</th>\n",
       "      <th>fare_amount</th>\n",
       "    </tr>\n",
       "  </thead>\n",
       "  <tbody>\n",
       "    <tr>\n",
       "      <th>0</th>\n",
       "      <td>75.84</td>\n",
       "      <td>52.00</td>\n",
       "    </tr>\n",
       "    <tr>\n",
       "      <th>1</th>\n",
       "      <td>69.99</td>\n",
       "      <td>52.00</td>\n",
       "    </tr>\n",
       "    <tr>\n",
       "      <th>2</th>\n",
       "      <td>59.84</td>\n",
       "      <td>53.00</td>\n",
       "    </tr>\n",
       "    <tr>\n",
       "      <th>3</th>\n",
       "      <td>68.50</td>\n",
       "      <td>53.50</td>\n",
       "    </tr>\n",
       "    <tr>\n",
       "      <th>4</th>\n",
       "      <td>70.01</td>\n",
       "      <td>52.00</td>\n",
       "    </tr>\n",
       "    <tr>\n",
       "      <th>...</th>\n",
       "      <td>...</td>\n",
       "      <td>...</td>\n",
       "    </tr>\n",
       "    <tr>\n",
       "      <th>376</th>\n",
       "      <td>78.88</td>\n",
       "      <td>67.00</td>\n",
       "    </tr>\n",
       "    <tr>\n",
       "      <th>377</th>\n",
       "      <td>64.84</td>\n",
       "      <td>58.50</td>\n",
       "    </tr>\n",
       "    <tr>\n",
       "      <th>378</th>\n",
       "      <td>0.31</td>\n",
       "      <td>0.01</td>\n",
       "    </tr>\n",
       "    <tr>\n",
       "      <th>379</th>\n",
       "      <td>58.80</td>\n",
       "      <td>57.50</td>\n",
       "    </tr>\n",
       "    <tr>\n",
       "      <th>380</th>\n",
       "      <td>229.80</td>\n",
       "      <td>228.50</td>\n",
       "    </tr>\n",
       "  </tbody>\n",
       "</table>\n",
       "<p>381 rows × 2 columns</p>\n",
       "</div>"
      ],
      "text/plain": [
       "     total_amount  fare_amount\n",
       "0           75.84        52.00\n",
       "1           69.99        52.00\n",
       "2           59.84        53.00\n",
       "3           68.50        53.50\n",
       "4           70.01        52.00\n",
       "..            ...          ...\n",
       "376         78.88        67.00\n",
       "377         64.84        58.50\n",
       "378          0.31         0.01\n",
       "379         58.80        57.50\n",
       "380        229.80       228.50\n",
       "\n",
       "[381 rows x 2 columns]"
      ]
     },
     "execution_count": 4,
     "metadata": {},
     "output_type": "execute_result"
    }
   ],
   "source": [
    "dataset.to_table(columns=[\"total_amount\", \"fare_amount\"], filter=(ds.field(\"trip_distance\") > 20.0)).to_pandas()"
   ]
  },
  {
   "cell_type": "markdown",
   "id": "occupational-formula",
   "metadata": {},
   "source": [
    "## Install Dask\n",
    "\n",
    "We will be using Dask workers for parallel execution. So, let's install it."
   ]
  },
  {
   "cell_type": "code",
   "execution_count": 5,
   "id": "homeless-overall",
   "metadata": {},
   "outputs": [
    {
     "name": "stdout",
     "output_type": "stream",
     "text": [
      "\u001b[33mWARNING: Running pip install with root privileges is generally not a good idea. Try `pip3 install --user` instead.\u001b[0m\n",
      "Requirement already satisfied: dask[distributed] in /usr/local/lib/python3.6/site-packages\n",
      "Requirement already satisfied: pyyaml in /usr/lib64/python3.6/site-packages (from dask[distributed])\n",
      "Requirement already satisfied: distributed>=2.0; extra == \"distributed\" in /usr/local/lib/python3.6/site-packages (from dask[distributed])\n",
      "Requirement already satisfied: click>=6.6 in /usr/lib/python3.6/site-packages (from distributed>=2.0; extra == \"distributed\"->dask[distributed])\n",
      "Requirement already satisfied: zict>=0.1.3 in /usr/local/lib/python3.6/site-packages (from distributed>=2.0; extra == \"distributed\"->dask[distributed])\n",
      "Requirement already satisfied: setuptools in /usr/local/lib/python3.6/site-packages (from distributed>=2.0; extra == \"distributed\"->dask[distributed])\n",
      "Requirement already satisfied: tornado>=5; python_version < \"3.8\" in /usr/local/lib64/python3.6/site-packages (from distributed>=2.0; extra == \"distributed\"->dask[distributed])\n",
      "Requirement already satisfied: msgpack>=0.6.0 in /usr/local/lib64/python3.6/site-packages (from distributed>=2.0; extra == \"distributed\"->dask[distributed])\n",
      "Requirement already satisfied: cloudpickle>=1.5.0 in /usr/local/lib/python3.6/site-packages (from distributed>=2.0; extra == \"distributed\"->dask[distributed])\n",
      "Requirement already satisfied: sortedcontainers!=2.0.0,!=2.0.1 in /usr/local/lib/python3.6/site-packages (from distributed>=2.0; extra == \"distributed\"->dask[distributed])\n",
      "Requirement already satisfied: toolz>=0.8.2 in /usr/local/lib/python3.6/site-packages (from distributed>=2.0; extra == \"distributed\"->dask[distributed])\n",
      "Requirement already satisfied: contextvars; python_version < \"3.7\" in /usr/local/lib/python3.6/site-packages (from distributed>=2.0; extra == \"distributed\"->dask[distributed])\n",
      "Requirement already satisfied: tblib>=1.6.0 in /usr/local/lib/python3.6/site-packages (from distributed>=2.0; extra == \"distributed\"->dask[distributed])\n",
      "Requirement already satisfied: psutil>=5.0 in /usr/local/lib64/python3.6/site-packages (from distributed>=2.0; extra == \"distributed\"->dask[distributed])\n",
      "Requirement already satisfied: heapdict in /usr/local/lib64/python3.6/site-packages (from zict>=0.1.3->distributed>=2.0; extra == \"distributed\"->dask[distributed])\n",
      "Requirement already satisfied: immutables>=0.9 in /usr/local/lib64/python3.6/site-packages (from contextvars; python_version < \"3.7\"->distributed>=2.0; extra == \"distributed\"->dask[distributed])\n",
      "\u001b[33mWARNING: Running pip install with root privileges is generally not a good idea. Try `pip3 install --user` instead.\u001b[0m\n",
      "Requirement already satisfied: fsspec>=0.3.3 in /usr/local/lib/python3.6/site-packages\n"
     ]
    }
   ],
   "source": [
    "!pip3 install dask[distributed]\n",
    "!pip3 install 'fsspec>=0.3.3'"
   ]
  },
  {
   "cell_type": "markdown",
   "id": "concerned-therapy",
   "metadata": {},
   "source": [
    "## Import the required modules\n",
    "\n",
    "Import `uproot`, `awkward`, `coffea`."
   ]
  },
  {
   "cell_type": "code",
   "execution_count": 6,
   "id": "hollow-genre",
   "metadata": {},
   "outputs": [],
   "source": [
    "import uproot\n",
    "import awkward as ak\n",
    "from coffea.nanoevents import NanoEventsFactory, NanoAODSchema\n",
    "from coffea import processor, hist"
   ]
  },
  {
   "cell_type": "markdown",
   "id": "manual-disposition",
   "metadata": {},
   "source": [
    "## Define a Processor instance\n",
    "\n",
    "The processor implementation given below has been taken from [here](https://github.com/CoffeaTeam/coffea/blob/master/binder/nanoevents.ipynb)."
   ]
  },
  {
   "cell_type": "code",
   "execution_count": 7,
   "id": "domestic-interim",
   "metadata": {},
   "outputs": [],
   "source": [
    "class MyZPeak(processor.ProcessorABC):\n",
    "    def __init__(self):\n",
    "        self._histo = hist.Hist(\n",
    "            \"Events\",\n",
    "            hist.Cat(\"dataset\", \"Dataset\"),\n",
    "            hist.Bin(\"mass\", \"Z mass\", 60, 60, 120),\n",
    "        )\n",
    "    \n",
    "    @property\n",
    "    def accumulator(self):\n",
    "        return self._histo\n",
    "    \n",
    "    # we will receive a NanoEvents instead of a coffea DataFrame\n",
    "    def process(self, events):\n",
    "        out = self.accumulator.identity()\n",
    "        mmevents = events[\n",
    "            (ak.num(events.Muon) == 2)\n",
    "            & (ak.sum(events.Muon.charge, axis=1) == 0)\n",
    "        ]\n",
    "        zmm = mmevents.Muon[:, 0] + mmevents.Muon[:, 1]\n",
    "        out.fill(\n",
    "            dataset=events.metadata[\"dataset\"],\n",
    "            mass=zmm.mass,\n",
    "        )\n",
    "        return out\n",
    "    \n",
    "    def postprocess(self, accumulator):\n",
    "        return accumulator"
   ]
  },
  {
   "cell_type": "markdown",
   "id": "utility-compact",
   "metadata": {},
   "source": [
    "## Convert a Root file containing NanoEvents to a Parquet file"
   ]
  },
  {
   "cell_type": "code",
   "execution_count": 8,
   "id": "sweet-reply",
   "metadata": {},
   "outputs": [],
   "source": [
    "ak.to_parquet(\n",
    "    uproot.lazy(\"../tests/samples/nano_dy.root:Events\"),\n",
    "    \"nano_dy.parquet\",\n",
    "    list_to32=True,\n",
    "    use_dictionary=False,\n",
    "    compression=\"GZIP\",\n",
    "    compression_level=1,\n",
    ")"
   ]
  },
  {
   "cell_type": "markdown",
   "id": "together-assist",
   "metadata": {},
   "source": [
    "## Write some NanoEvents Parquet files to CephFS\n",
    "\n",
    "Here we populate the CephFS mounted directory with the parquet files created in the previous step. In this version, we need to make sure that the individual file sizes is under 4MB which is the default object size of Ceph to ensure one-to-one mapping of files to objects, which is a requirement in the multiple-file design that we have now."
   ]
  },
  {
   "cell_type": "code",
   "execution_count": 9,
   "id": "muslim-retrieval",
   "metadata": {},
   "outputs": [],
   "source": [
    "!mkdir -p /mnt/cephfs/nanoevents/\n",
    "!cp nano_dy.parquet /mnt/cephfs/nanoevents/nano_dy.0.parquet\n",
    "!cp nano_dy.parquet /mnt/cephfs/nanoevents/nano_dy.1.parquet\n",
    "!cp nano_dy.parquet /mnt/cephfs/nanoevents/nano_dy.2.parquet\n",
    "!cp nano_dy.parquet /mnt/cephfs/nanoevents/nano_dy.3.parquet\n",
    "!cp nano_dy.parquet /mnt/cephfs/nanoevents/nano_dy.4.parquet\n",
    "!cp nano_dy.parquet /mnt/cephfs/nanoevents/nano_dy.5.parquet"
   ]
  },
  {
   "cell_type": "markdown",
   "id": "manufactured-america",
   "metadata": {},
   "source": [
    "## Running in parallel using Dask\n",
    "\n",
    "The `LocalCluster()` used below creates a process pool with worker count equal to the number of cores available to the Notebook where each worker is single-threaded. The `LocalCluster` can be replaced by other cluster resource managers provided by Dask Distributed like `KuberneresCluster`, `YarnCluster`, etc. Here, we create a `LocalCluster` and get a client handle to it."
   ]
  },
  {
   "cell_type": "code",
   "execution_count": 10,
   "id": "adapted-amplifier",
   "metadata": {},
   "outputs": [],
   "source": [
    "from dask.distributed import Client, LocalCluster\n",
    "cluster = LocalCluster(processes=True, threads_per_worker=1)\n",
    "client = Client(cluster)"
   ]
  },
  {
   "cell_type": "markdown",
   "id": "toxic-empty",
   "metadata": {},
   "source": [
    "We have added a new function called `run_parquet_job` to the executor API in coffea to run jobs on Parquet files using the Arrow Dataset API under the hood. \n",
    "This API takes a `ceph_config_path` parameter, which is basically the path to the configuration file of the Ceph cluster. This API also allows just passing a single directory path and the Datasets API does the dataset discovery task by itself. The calls to the Dataset API are launced in parallel and there will one Dataset API call per file."
   ]
  },
  {
   "cell_type": "code",
   "execution_count": 11,
   "id": "altered-transition",
   "metadata": {},
   "outputs": [
    {
     "name": "stdout",
     "output_type": "stream",
     "text": [
      "CPU times: user 1.47 s, sys: 189 ms, total: 1.66 sCompleted |  3.5s\n",
      "Wall time: 3.91 s\n"
     ]
    }
   ],
   "source": [
    "%%time\n",
    "result = processor.run_parquet_job(\n",
    "    '/mnt/cephfs/nanoevents/',\n",
    "    \"Events\",\n",
    "    processor_instance=MyZPeak(),\n",
    "    executor=processor.dask_executor,\n",
    "    executor_args={\"client\": client, \"ceph_config_path\": \"/etc/ceph/ceph.conf\"}\n",
    ")"
   ]
  },
  {
   "cell_type": "markdown",
   "id": "statutory-worst",
   "metadata": {},
   "source": [
    "## Running iteratively using the `iterative_executor`\n",
    "\n",
    "Run the same job again, but now iteratively. The calls to the Dataset API will now be sequential."
   ]
  },
  {
   "cell_type": "code",
   "execution_count": 12,
   "id": "aboriginal-immune",
   "metadata": {},
   "outputs": [
    {
     "data": {
      "application/vnd.jupyter.widget-view+json": {
       "model_id": "fd90428318dc46728b83f628f9038b9a",
       "version_major": 2,
       "version_minor": 0
      },
      "text/plain": [
       "Processing:   0%|          | 0/6 [00:00<?, ?chunk/s]"
      ]
     },
     "metadata": {},
     "output_type": "display_data"
    },
    {
     "name": "stdout",
     "output_type": "stream",
     "text": [
      "CPU times: user 5.2 s, sys: 808 ms, total: 6.01 s\n",
      "Wall time: 9.22 s\n"
     ]
    }
   ],
   "source": [
    "%%time\n",
    "result = processor.run_parquet_job(\n",
    "    '/mnt/cephfs/nanoevents/',\n",
    "    \"Events\",\n",
    "    processor_instance=MyZPeak(),\n",
    "    executor=processor.iterative_executor,\n",
    "    executor_args={\"ceph_config_path\": \"/etc/ceph/ceph.conf\"}\n",
    ")"
   ]
  },
  {
   "cell_type": "markdown",
   "id": "consolidated-panel",
   "metadata": {},
   "source": [
    "As expected, much slower than running using Dask."
   ]
  },
  {
   "cell_type": "markdown",
   "id": "surrounded-petroleum",
   "metadata": {},
   "source": [
    "## Plotting the results\n",
    "\n"
   ]
  },
  {
   "cell_type": "code",
   "execution_count": 13,
   "id": "collectible-applicant",
   "metadata": {},
   "outputs": [
    {
     "data": {
      "text/plain": [
       "<AxesSubplot:xlabel='Z mass', ylabel='Events'>"
      ]
     },
     "execution_count": 13,
     "metadata": {},
     "output_type": "execute_result"
    },
    {
     "data": {
      "image/png": "[encoded data removed]",
      "text/plain": [
       "<Figure size 432x288 with 1 Axes>"
      ]
     },
     "metadata": {
      "needs_background": "light"
     },
     "output_type": "display_data"
    }
   ],
   "source": [
    "%matplotlib inline\n",
    "\n",
    "hist.plot1d(result)"
   ]
  }
 ],
 "metadata": {
  "kernelspec": {
   "display_name": "Python 3",
   "language": "python",
   "name": "python3"
  },
  "language_info": {
   "codemirror_mode": {
    "name": "ipython",
    "version": 3
   },
   "file_extension": ".py",
   "mimetype": "text/x-python",
   "name": "python",
   "nbconvert_exporter": "python",
   "pygments_lexer": "ipython3",
   "version": "3.6.8"
  }
 },
 "nbformat": 4,
 "nbformat_minor": 5
}
